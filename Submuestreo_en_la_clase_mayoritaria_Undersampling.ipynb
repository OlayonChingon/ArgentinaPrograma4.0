{
  "nbformat": 4,
  "nbformat_minor": 0,
  "metadata": {
    "colab": {
      "provenance": [],
      "include_colab_link": true
    },
    "kernelspec": {
      "name": "python3",
      "display_name": "Python 3"
    },
    "language_info": {
      "name": "python"
    }
  },
  "cells": [
    {
      "cell_type": "markdown",
      "metadata": {
        "id": "view-in-github",
        "colab_type": "text"
      },
      "source": [
        "<a href=\"https://colab.research.google.com/github/OlayonChingon/ArgentinaPrograma4.0/blob/main/Submuestreo_en_la_clase_mayoritaria_Undersampling.ipynb\" target=\"_parent\"><img src=\"https://colab.research.google.com/assets/colab-badge.svg\" alt=\"Open In Colab\"/></a>"
      ]
    },
    {
      "cell_type": "code",
      "source": [
        "import pandas as pd\n",
        "import numpy as np\n",
        "import tensorflow as tf\n",
        "from sklearn.model_selection import train_test_split\n",
        "from sklearn.preprocessing import StandardScaler, LabelEncoder\n",
        "from sklearn.metrics import confusion_matrix\n",
        "import seaborn as sns\n",
        "import matplotlib.pyplot as plt\n",
        "from tensorflow import keras\n",
        "from keras.layers import Dense\n",
        "from keras.models import Sequential\n",
        "\n",
        "# Cargar el dataset\n",
        "url = '/content/bank.csv'\n",
        "data = pd.read_csv(url, sep=';')\n",
        "\n",
        "\n",
        "# Procesar los datos\n",
        "label_encoder = LabelEncoder()\n",
        "categorical_cols = ['job', 'marital', 'education', 'default', 'housing', 'loan', 'contact', 'month', 'poutcome']\n",
        "for col in categorical_cols:\n",
        "    data[col] = label_encoder.fit_transform(data[col])\n",
        "\n",
        "# Transformar etiquetas a numéricas\n",
        "data['y'] = label_encoder.fit_transform(data['y'])\n",
        "\n",
        "# Dividir en características y etiquetas\n",
        "X = data.drop('y', axis=1)\n",
        "y = data['y']\n",
        "\n",
        "# Dividir en conjuntos de entrenamiento y prueba\n",
        "X_train, X_test, y_train, y_test = train_test_split(X, y, test_size=0.2, random_state=42)\n",
        "\n",
        "# Escalar las características\n",
        "scaler = StandardScaler()\n",
        "X_train = scaler.fit_transform(X_train)\n",
        "X_test = scaler.transform(X_test)\n",
        "\n",
        "# Crear el modelo de red neuronal\n",
        "model = Sequential()\n",
        "model.add(Dense(units=128, activation='relu', input_dim=X_train.shape[1]))\n",
        "model.add(Dense(units=64, activation='relu'))\n",
        "model.add(Dense(units=1, activation='sigmoid'))\n",
        "\n",
        "# Compilar el modelo\n",
        "model.compile(loss='binary_crossentropy', optimizer='adam')\n",
        "\n",
        "# Entrenar el modelo\n",
        "model.fit(X_train, y_train, epochs=10, batch_size=32, verbose=1)\n",
        "\n",
        "\n",
        "\n",
        "\n",
        "\n",
        "\n",
        "\n",
        "# Realizar predicciones en el conjunto de prueba\n",
        "y_probs = model.predict(X_test)\n",
        "y_pred = np.round(y_probs)\n",
        "\n",
        "\n",
        "# Calcular la matriz de confusión\n",
        "conf_matrix = confusion_matrix(y_test, y_pred)\n",
        "\n",
        "# Nombres de clases\n",
        "class_names = ['No', 'Yes']\n",
        "\n",
        "# Estilizar la matriz de confusión con pandas\n",
        "conf_df = pd.DataFrame(conf_matrix, index=class_names, columns=class_names)\n",
        "\n",
        "# Mostrar la matriz de confusión estilizada\n",
        "print(\"\\nMatriz de Confusión:\")\n",
        "print(conf_df)\n",
        "\n",
        "\n",
        "# Crear un gráfico de barras para mostrar la cantidad de registros por clase\n",
        "plt.figure(figsize=(8, 6))\n",
        "sns.countplot(x=y, palette=\"Set2\")\n",
        "plt.xlabel('Clase')\n",
        "plt.ylabel('Cantidad de Registros')\n",
        "plt.title('Cantidad de Registros por Clase')\n",
        "plt.xticks([0, 1], ['No', 'Yes'])  # Etiquetas personalizadas para las clases\n",
        "plt.show()\n"
      ],
      "metadata": {
        "colab": {
          "base_uri": "https://localhost:8080/",
          "height": 1000
        },
        "id": "8qAAQU0R1C-1",
        "outputId": "e07b5576-1501-4fb0-b6c7-c99648387554"
      },
      "execution_count": null,
      "outputs": [
        {
          "output_type": "stream",
          "name": "stdout",
          "text": [
            "Epoch 1/10\n",
            "113/113 [==============================] - 2s 3ms/step - loss: 0.3426\n",
            "Epoch 2/10\n",
            "113/113 [==============================] - 0s 3ms/step - loss: 0.2629\n",
            "Epoch 3/10\n",
            "113/113 [==============================] - 0s 4ms/step - loss: 0.2496\n",
            "Epoch 4/10\n",
            "113/113 [==============================] - 0s 3ms/step - loss: 0.2421\n",
            "Epoch 5/10\n",
            "113/113 [==============================] - 0s 3ms/step - loss: 0.2359\n",
            "Epoch 6/10\n",
            "113/113 [==============================] - 0s 3ms/step - loss: 0.2317\n",
            "Epoch 7/10\n",
            "113/113 [==============================] - 0s 3ms/step - loss: 0.2277\n",
            "Epoch 8/10\n",
            "113/113 [==============================] - 0s 3ms/step - loss: 0.2219\n",
            "Epoch 9/10\n",
            "113/113 [==============================] - 0s 4ms/step - loss: 0.2171\n",
            "Epoch 10/10\n",
            "113/113 [==============================] - 1s 6ms/step - loss: 0.2131\n",
            "29/29 [==============================] - 0s 2ms/step\n",
            "\n",
            "Matriz de Confusión:\n",
            "      No  Yes\n",
            "No   785   22\n",
            "Yes   73   25\n"
          ]
        },
        {
          "output_type": "display_data",
          "data": {
            "text/plain": [
              "<Figure size 800x600 with 1 Axes>"
            ],
            "image/png": "[encoded data removed]"
          },
          "metadata": {}
        }
      ]
    },
    {
      "cell_type": "code",
      "source": [
        "\n",
        "TN = conf_matrix[0, 0]\n",
        "FP = conf_matrix[0, 1]\n",
        "FN = conf_matrix[1, 0]\n",
        "TP = conf_matrix[1, 1]\n",
        "\n",
        "precision = TP / (TP + FP)\n",
        "sensitivity = TP / (TP + FN)\n",
        "\n",
        "f1 = 2 * (precision * sensitivity) / (precision + sensitivity)\n",
        "\n",
        "print(\"F1-score:\", f1)"
      ],
      "metadata": {
        "colab": {
          "base_uri": "https://localhost:8080/"
        },
        "id": "xe0MBMwhLd-D",
        "outputId": "b601ca5a-444b-4da6-9ada-0c1a6a2b217e"
      },
      "execution_count": null,
      "outputs": [
        {
          "output_type": "stream",
          "name": "stdout",
          "text": [
            "F1-score: 0.3448275862068966\n"
          ]
        }
      ]
    },
    {
      "cell_type": "markdown",
      "source": [
        "INFORME DE PRESICION"
      ],
      "metadata": {
        "id": "lvU2ZvwQ-of0"
      }
    },
    {
      "cell_type": "code",
      "source": [
        "from sklearn.metrics import classification_report\n",
        "\n",
        "report = classification_report(y_test, y_pred, labels = [0,1])\n",
        "print(report)"
      ],
      "metadata": {
        "colab": {
          "base_uri": "https://localhost:8080/"
        },
        "id": "Jvki8JcJ-vSa",
        "outputId": "c3c0acd2-ee9a-456e-a465-56e16fde14fb"
      },
      "execution_count": null,
      "outputs": [
        {
          "output_type": "stream",
          "name": "stdout",
          "text": [
            "              precision    recall  f1-score   support\n",
            "\n",
            "           0       0.91      0.97      0.94       807\n",
            "           1       0.53      0.26      0.34        98\n",
            "\n",
            "    accuracy                           0.90       905\n",
            "   macro avg       0.72      0.61      0.64       905\n",
            "weighted avg       0.87      0.90      0.88       905\n",
            "\n"
          ]
        }
      ]
    },
    {
      "cell_type": "markdown",
      "source": [
        "##Aplicando la tecnica de submuetreo evaluamos f1_score"
      ],
      "metadata": {
        "id": "jNJvIiqL6huy"
      }
    },
    {
      "cell_type": "code",
      "source": [
        "import pandas as pd\n",
        "import numpy as np\n",
        "import tensorflow as tf\n",
        "from sklearn.model_selection import train_test_split\n",
        "from sklearn.preprocessing import StandardScaler, LabelEncoder\n",
        "from sklearn.metrics import confusion_matrix\n",
        "import seaborn as sns\n",
        "import matplotlib.pyplot as plt\n",
        "from tensorflow import keras\n",
        "from keras.layers import Dense\n",
        "from keras.models import Sequential\n",
        "from imblearn.under_sampling import RandomUnderSampler\n",
        "\n",
        "# Cargar el dataset\n",
        "url = '/content/bank.csv'\n",
        "data = pd.read_csv(url, sep=';')\n",
        "\n",
        "# Procesar los datos\n",
        "label_encoder = LabelEncoder()\n",
        "categorical_cols = ['job', 'marital', 'education', 'default', 'housing', 'loan', 'contact', 'month', 'poutcome']\n",
        "for col in categorical_cols:\n",
        "    data[col] = label_encoder.fit_transform(data[col])\n",
        "\n",
        "# Transformar etiquetas a numéricas\n",
        "data['y'] = label_encoder.fit_transform(data['y'])\n",
        "\n",
        "# Dividir en características y etiquetas\n",
        "X = data.drop('y', axis=1)\n",
        "y = data['y']\n",
        "\n",
        "# Dividir en conjuntos de entrenamiento y prueba\n",
        "X_train, X_test, y_train, y_test = train_test_split(X, y, test_size=0.2, random_state=42)\n",
        "\n",
        "# Escalar las características\n",
        "scaler = StandardScaler()\n",
        "X_train = scaler.fit_transform(X_train)\n",
        "X_test = scaler.transform(X_test)\n",
        "\n",
        "\n",
        "\n",
        "\n",
        "# Aplicar submuestreo a la clase mayoritaria\n",
        "#El submuestreo aleatorio reduce la cantidad de ejemplos de la clase mayoritaria a un número igual al número\n",
        "#de ejemplos de la clase minoritaria, seleccionando aleatoriamente ejemplos de la clase mayoritaria sin reemplazo.\n",
        "#Esto puede ayudar a equilibrar las clases y mejorar el rendimiento de los modelos de aprendizaje automático cuando\n",
        "#se trata de problemas de desequilibrio de clases.\n",
        "\n",
        "undersampler = RandomUnderSampler(random_state=42)\n",
        "X_train_resampled, y_train_resampled = undersampler.fit_resample(X_train, y_train)\n",
        "\n",
        "\n",
        "\n",
        "\n",
        "# Crear el modelo de red neuronal\n",
        "model = Sequential()\n",
        "model.add(Dense(units=128, activation='relu', input_dim=X_train.shape[1]))\n",
        "model.add(Dense(units=64, activation='relu'))\n",
        "model.add(Dense(units=1, activation='sigmoid'))\n",
        "\n",
        "# Compilar el modelo\n",
        "model.compile(loss='binary_crossentropy', optimizer='adam')\n",
        "\n",
        "# Entrenar el modelo con los datos submuestreados\n",
        "model.fit(X_train_resampled, y_train_resampled, epochs=10, batch_size=32, verbose=1)\n",
        "\n",
        "# Realizar predicciones en el conjunto de prueba\n",
        "y_probs = model.predict(X_test)\n",
        "y_pred = np.round(y_probs)\n",
        "\n",
        "# Calcular la matriz de confusión\n",
        "conf_matrix = confusion_matrix(y_test, y_pred)\n",
        "\n",
        "# Nombres de clases\n",
        "class_names = ['No', 'Yes']\n",
        "\n",
        "# Estilizar la matriz de confusión con pandas\n",
        "conf_df = pd.DataFrame(conf_matrix, index=class_names, columns=class_names)\n",
        "\n",
        "# Mostrar la matriz de confusión estilizada\n",
        "print(\"\\nMatriz de Confusión:\")\n",
        "print(conf_df)\n",
        "\n",
        "# Crear un gráfico de barras para mostrar la cantidad de registros por clase después de submuestreo\n",
        "plt.figure(figsize=(8, 6))\n",
        "pd.Series(y_train_resampled).value_counts().plot(kind='bar', color='skyblue')\n",
        "plt.xlabel('Clase')\n",
        "plt.ylabel('Cantidad de Registros')\n",
        "plt.title('Cantidad de Registros por Clase (después de submuestreo)')\n",
        "plt.xticks(rotation=0)\n",
        "plt.show()\n"
      ],
      "metadata": {
        "colab": {
          "base_uri": "https://localhost:8080/",
          "height": 1000
        },
        "id": "3uOEwqVELP50",
        "outputId": "3dfcf650-a322-4b5c-b66d-b1f2634b4e89"
      },
      "execution_count": null,
      "outputs": [
        {
          "output_type": "stream",
          "name": "stdout",
          "text": [
            "Epoch 1/10\n",
            "27/27 [==============================] - 1s 2ms/step - loss: 0.6211\n",
            "Epoch 2/10\n",
            "27/27 [==============================] - 0s 3ms/step - loss: 0.5002\n",
            "Epoch 3/10\n",
            "27/27 [==============================] - 0s 2ms/step - loss: 0.4493\n",
            "Epoch 4/10\n",
            "27/27 [==============================] - 0s 2ms/step - loss: 0.4264\n",
            "Epoch 5/10\n",
            "27/27 [==============================] - 0s 2ms/step - loss: 0.4128\n",
            "Epoch 6/10\n",
            "27/27 [==============================] - 0s 2ms/step - loss: 0.3986\n",
            "Epoch 7/10\n",
            "27/27 [==============================] - 0s 2ms/step - loss: 0.3900\n",
            "Epoch 8/10\n",
            "27/27 [==============================] - 0s 2ms/step - loss: 0.3796\n",
            "Epoch 9/10\n",
            "27/27 [==============================] - 0s 2ms/step - loss: 0.3760\n",
            "Epoch 10/10\n",
            "27/27 [==============================] - 0s 2ms/step - loss: 0.3617\n",
            "29/29 [==============================] - 0s 1ms/step\n",
            "\n",
            "Matriz de Confusión:\n",
            "      No  Yes\n",
            "No   624  183\n",
            "Yes   19   79\n"
          ]
        },
        {
          "output_type": "display_data",
          "data": {
            "text/plain": [
              "<Figure size 800x600 with 1 Axes>"
            ],
            "image/png": "[encoded data removed]"
          },
          "metadata": {}
        }
      ]
    },
    {
      "cell_type": "code",
      "source": [
        "\n",
        "TN = conf_matrix[0, 0]\n",
        "FP = conf_matrix[0, 1]\n",
        "FN = conf_matrix[1, 0]\n",
        "TP = conf_matrix[1, 1]\n",
        "\n",
        "precision = TP / (TP + FP)\n",
        "sensitivity = TP / (TP + FN)\n",
        "\n",
        "f1 = 2 * (precision * sensitivity) / (precision + sensitivity)\n",
        "\n",
        "print(\"F1-score:\", f1)"
      ],
      "metadata": {
        "id": "K3TkfkBbLYNa",
        "outputId": "147a5b89-5e50-4d33-8e83-127388edf4d5",
        "colab": {
          "base_uri": "https://localhost:8080/"
        }
      },
      "execution_count": null,
      "outputs": [
        {
          "output_type": "stream",
          "name": "stdout",
          "text": [
            "F1-score: 0.4388888888888889\n"
          ]
        }
      ]
    },
    {
      "cell_type": "markdown",
      "source": [
        "INFORME DE PRESICION"
      ],
      "metadata": {
        "id": "kr3iFbiV_I-B"
      }
    },
    {
      "cell_type": "code",
      "source": [
        "from sklearn.metrics import classification_report\n",
        "\n",
        "report = classification_report(y_test, y_pred, labels = [0,1])\n",
        "print(report)"
      ],
      "metadata": {
        "colab": {
          "base_uri": "https://localhost:8080/"
        },
        "id": "n17nhvzQ_MH0",
        "outputId": "2b4a9e36-7e5d-4c6a-b8be-8f0cd08b06da"
      },
      "execution_count": null,
      "outputs": [
        {
          "output_type": "stream",
          "name": "stdout",
          "text": [
            "              precision    recall  f1-score   support\n",
            "\n",
            "           0       0.97      0.77      0.86       807\n",
            "           1       0.30      0.81      0.44        98\n",
            "\n",
            "    accuracy                           0.78       905\n",
            "   macro avg       0.64      0.79      0.65       905\n",
            "weighted avg       0.90      0.78      0.82       905\n",
            "\n"
          ]
        }
      ]
    },
    {
      "cell_type": "markdown",
      "source": [
        "El F1-score varía entre 0 y 1, donde 1 representa un rendimiento perfecto y 0 representa un rendimiento pobre. Un F1-score de 0.5 se considera un punto de referencia razonable para muchas aplicaciones, pero esto puede variar dependiendo del dominio y las necesidades específicas del problema.\n",
        "\n",
        "**La interpretación del valor óptimo del F1-score debe hacerse en el contexto del problema y las metas específicas que se estén abordando.**\n",
        "\n",
        "EN  PARTICULAR ESTE CASO, necesitamos mejorar la sensibilidad (recall) que tiene en cuenta la exactitud en los casos verdaderos positivos ya que  nos ocupamos en las preciones de probabilidad de que potenciales clientes encuestados contraten en plazo bancario"
      ],
      "metadata": {
        "id": "y9tm8oCT8Ggr"
      }
    }
  ]
}