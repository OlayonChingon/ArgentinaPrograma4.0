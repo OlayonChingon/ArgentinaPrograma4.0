{
  "nbformat": 4,
  "nbformat_minor": 0,
  "metadata": {
    "colab": {
      "provenance": [],
      "include_colab_link": true
    },
    "kernelspec": {
      "name": "python3",
      "display_name": "Python 3"
    },
    "language_info": {
      "name": "python"
    }
  },
  "cells": [
    {
      "cell_type": "markdown",
      "metadata": {
        "id": "view-in-github",
        "colab_type": "text"
      },
      "source": [
        "<a href=\"https://colab.research.google.com/github/OlayonChingon/ArgentinaPrograma4.0/blob/main/Compensaci%C3%B3n_por_Penalizaci%C3%B3n.ipynb\" target=\"_parent\"><img src=\"https://colab.research.google.com/assets/colab-badge.svg\" alt=\"Open In Colab\"/></a>"
      ]
    },
    {
      "cell_type": "code",
      "source": [
        "import pandas as pd\n",
        "import numpy as np\n",
        "import tensorflow as tf\n",
        "from sklearn.model_selection import train_test_split\n",
        "from sklearn.preprocessing import StandardScaler, LabelEncoder\n",
        "from sklearn.metrics import confusion_matrix\n",
        "import seaborn as sns\n",
        "import matplotlib.pyplot as plt\n",
        "from tensorflow import keras\n",
        "from keras.layers import Dense\n",
        "from keras.models import Sequential\n",
        "from sklearn.metrics import f1_score\n",
        "import gdown\n",
        "\n",
        "# Define el enlace compartido de Google Drive\n",
        "url = 'https://drive.google.com/uc?id=1UN8qP4GMmJhzbDNzxNhpnM83br1FVxI-'\n",
        "\n",
        "# Especifica la ubicación donde deseas guardar el archivo\n",
        "output = '/content/bank.csv'\n",
        "\n",
        "# Descarga el archivo desde el enlace compartido\n",
        "gdown.download(url, output, quiet=False)\n",
        "data = pd.read_csv(output, sep=';')"
      ],
      "metadata": {
        "colab": {
          "base_uri": "https://localhost:8080/"
        },
        "id": "ZeU7C86TIJ_Q",
        "outputId": "1ba95e07-7361-41a1-8346-df640e4eb27b"
      },
      "execution_count": null,
      "outputs": [
        {
          "output_type": "stream",
          "name": "stderr",
          "text": [
            "Downloading...\n",
            "From: https://drive.google.com/uc?id=1UN8qP4GMmJhzbDNzxNhpnM83br1FVxI-\n",
            "To: /content/bank.csv\n",
            "100%|██████████| 461k/461k [00:00<00:00, 24.0MB/s]\n"
          ]
        }
      ]
    },
    {
      "cell_type": "code",
      "source": [
        "# Procesar los datos\n",
        "label_encoder = LabelEncoder()\n",
        "categorical_cols = ['job', 'marital', 'education', 'default', 'housing', 'loan', 'contact', 'month', 'poutcome']\n",
        "for col in categorical_cols:\n",
        "    data[col] = label_encoder.fit_transform(data[col])\n",
        "\n",
        "# Transformar etiquetas a numéricas\n",
        "data['y'] = label_encoder.fit_transform(data['y'])\n",
        "\n",
        "# Dividir en características y etiquetas\n",
        "X = data.drop('y', axis=1)\n",
        "y = data['y']\n",
        "\n",
        "# Dividir en conjuntos de entrenamiento y prueba\n",
        "X_train, X_test, y_train, y_test = train_test_split(X, y, test_size=0.2, random_state=42)\n",
        "\n",
        "# Escalar las características\n",
        "scaler = StandardScaler()\n",
        "X_train = scaler.fit_transform(X_train)\n",
        "X_test = scaler.transform(X_test)"
      ],
      "metadata": {
        "id": "FqAicQbcNW3R"
      },
      "execution_count": null,
      "outputs": []
    },
    {
      "cell_type": "code",
      "source": [
        "# Crear un gráfico de barras para mostrar la cantidad de registros por clase\n",
        "plt.figure(figsize=(8, 6))\n",
        "sns.countplot(x=y, palette=\"Set2\")\n",
        "plt.xlabel('Clase')\n",
        "plt.ylabel('Cantidad de Registros')\n",
        "plt.title('Cantidad de Registros por Clase')\n",
        "plt.xticks([0, 1], ['No', 'Yes'])  # Etiquetas personalizadas para las clases\n",
        "plt.show()"
      ],
      "metadata": {
        "colab": {
          "base_uri": "https://localhost:8080/",
          "height": 564
        },
        "id": "eNkTYcfOPsoz",
        "outputId": "011d3d3d-3a9d-400d-ccdd-2391835a258f"
      },
      "execution_count": null,
      "outputs": [
        {
          "output_type": "display_data",
          "data": {
            "text/plain": [
              "<Figure size 800x600 with 1 Axes>"
            ],
            "image/png": "[encoded data removed]"
          },
          "metadata": {}
        }
      ]
    },
    {
      "cell_type": "code",
      "source": [
        "# Crear el modelo de red neuronal\n",
        "model = Sequential()\n",
        "model.add(Dense(units=128, activation='relu', input_dim=X_train.shape[1]))\n",
        "model.add(Dense(units=64, activation='relu'))\n",
        "model.add(Dense(units=1, activation='sigmoid'))\n",
        "\n",
        "# Compilar el modelo\n",
        "model.compile(loss='binary_crossentropy', optimizer='adam')\n",
        "\n",
        "# Entrenar el modelo - SIN NINGUNA TECNICA DE BALANCEO\n",
        "model.fit(X_train, y_train, epochs=10, batch_size=32, verbose=0)\n"
      ],
      "metadata": {
        "id": "D9jCPDNgIq70",
        "colab": {
          "base_uri": "https://localhost:8080/"
        },
        "outputId": "9a923b1d-4faf-4b5e-f147-39725ed09802"
      },
      "execution_count": null,
      "outputs": [
        {
          "output_type": "execute_result",
          "data": {
            "text/plain": [
              "<keras.src.callbacks.History at 0x7c99c9c508b0>"
            ]
          },
          "metadata": {},
          "execution_count": 4
        }
      ]
    },
    {
      "cell_type": "code",
      "source": [
        "# Realizar predicciones en el conjunto de prueba\n",
        "y_probs = model.predict(X_test)\n",
        "y_pred = np.round(y_probs)\n",
        "\n",
        "# Calcular la matriz de confusión\n",
        "conf_matrix = confusion_matrix(y_test, y_pred)\n",
        "\n",
        "# Nombres de clases\n",
        "class_names = ['No', 'Yes']\n",
        "\n",
        "# Estilizar la matriz de confusión con pandas\n",
        "conf_df = pd.DataFrame(conf_matrix, index=class_names, columns=class_names)\n",
        "\n",
        "# Mostrar la matriz de confusión estilizada\n",
        "print(\"\\nMatriz de Confusión:\")\n",
        "print(conf_df)\n",
        "\n",
        "#Calculamos el F1 Score\n",
        "f1_test = f1_score(y_test, y_pred)\n",
        "print('F1 Score: ', f1_test)"
      ],
      "metadata": {
        "colab": {
          "base_uri": "https://localhost:8080/"
        },
        "id": "fGvalr_gRZCG",
        "outputId": "5dd37183-0fed-48fb-9a90-b968b0b4c1da"
      },
      "execution_count": null,
      "outputs": [
        {
          "output_type": "stream",
          "name": "stdout",
          "text": [
            "29/29 [==============================] - 0s 4ms/step\n",
            "\n",
            "Matriz de Confusión:\n",
            "      No  Yes\n",
            "No   781   26\n",
            "Yes   67   31\n",
            "F1 Score:  0.4\n"
          ]
        }
      ]
    },
    {
      "cell_type": "markdown",
      "source": [
        "INFORME DE PRESICION"
      ],
      "metadata": {
        "id": "VImcMErQPCjz"
      }
    },
    {
      "cell_type": "code",
      "source": [
        "from sklearn.metrics import classification_report\n",
        "\n",
        "report = classification_report(y_test, y_pred, labels = [0,1])\n",
        "print(report)"
      ],
      "metadata": {
        "colab": {
          "base_uri": "https://localhost:8080/"
        },
        "id": "09HwtNQXPPVj",
        "outputId": "a64c09cd-7f72-4847-dcd7-becb26f204e5"
      },
      "execution_count": null,
      "outputs": [
        {
          "output_type": "stream",
          "name": "stdout",
          "text": [
            "              precision    recall  f1-score   support\n",
            "\n",
            "           0       0.92      0.97      0.94       807\n",
            "           1       0.54      0.32      0.40        98\n",
            "\n",
            "    accuracy                           0.90       905\n",
            "   macro avg       0.73      0.64      0.67       905\n",
            "weighted avg       0.88      0.90      0.88       905\n",
            "\n"
          ]
        }
      ]
    },
    {
      "cell_type": "markdown",
      "source": [
        "# Aplicando Pesos a las Clases"
      ],
      "metadata": {
        "id": "IcB5mbdFaFhW"
      }
    },
    {
      "cell_type": "code",
      "source": [
        "from sklearn.utils import class_weight\n",
        "\n",
        "# Calculamos que peso tendria que tener cada clase para que este balanceado.\n",
        "class_weight = class_weight.compute_class_weight('balanced',\n",
        "                                                 classes=np.unique(y_train),\n",
        "                                                 y=y_train)\n",
        "weights_dict = {i:w for i,w in enumerate(class_weight)}\n",
        "print(\"Pesos por clase: \\n\", weights_dict)\n",
        "\n",
        "# Crear el modelo de red neuronal\n",
        "model = Sequential()\n",
        "model.add(Dense(units=128, activation='relu', input_dim=X_train.shape[1]))\n",
        "model.add(Dense(units=64, activation='relu'))\n",
        "model.add(Dense(units=1, activation='sigmoid'))\n",
        "\n",
        "# Reducir la tasa de aprendizaje a 0.0005. COMO METODOLOGIA PARA MEJORAR LA SENSIBILIDAD Y PRECISION\n",
        "optimizer = keras.optimizers.Adam(learning_rate=0.0005)\n",
        "\n",
        "\n",
        "# Compilar el MODELO\n",
        "model.compile(loss='binary_crossentropy', optimizer='adam')\n",
        "# Entrenar el modelo - APLICANDO PESOS A CADA CLASE\n",
        "model.fit(X_train, y_train, epochs=10, batch_size=32, verbose=0, class_weight=weights_dict)"
      ],
      "metadata": {
        "colab": {
          "base_uri": "https://localhost:8080/"
        },
        "id": "Wvxs-YW0ROzH",
        "outputId": "786b4a02-34b7-4955-cbd5-21352c7d4230"
      },
      "execution_count": null,
      "outputs": [
        {
          "output_type": "stream",
          "name": "stdout",
          "text": [
            "Pesos por clase: \n",
            " {0: 0.5662386470404008, 1: 4.274231678486998}\n"
          ]
        },
        {
          "output_type": "execute_result",
          "data": {
            "text/plain": [
              "<keras.src.callbacks.History at 0x7c99cfc3b760>"
            ]
          },
          "metadata": {},
          "execution_count": 10
        }
      ]
    },
    {
      "cell_type": "code",
      "source": [
        "# Realizar predicciones en el conjunto de prueba\n",
        "y_probs = model.predict(X_test)\n",
        "y_pred = np.round(y_probs)\n",
        "\n",
        "# Calcular la matriz de confusión\n",
        "conf_matrix = confusion_matrix(y_test, y_pred)\n",
        "\n",
        "# Nombres de clases\n",
        "class_names = ['No', 'Yes']\n",
        "\n",
        "# Estilizar la matriz de confusión con pandas\n",
        "conf_df = pd.DataFrame(conf_matrix, index=class_names, columns=class_names)\n",
        "\n",
        "# Mostrar la matriz de confusión estilizada\n",
        "print(\"\\nMatriz de Confusión:\")\n",
        "print(conf_df)\n",
        "\n",
        "#Calculamos el F1 Score\n",
        "f1_test = f1_score(y_test, y_pred)\n",
        "print('F1 Score: ', f1_test)"
      ],
      "metadata": {
        "colab": {
          "base_uri": "https://localhost:8080/"
        },
        "id": "6WHN86myQ8yC",
        "outputId": "130f69b0-fc8d-4912-bbb1-83d80a7fc0e9"
      },
      "execution_count": null,
      "outputs": [
        {
          "output_type": "stream",
          "name": "stdout",
          "text": [
            "29/29 [==============================] - 0s 1ms/step\n",
            "\n",
            "Matriz de Confusión:\n",
            "      No  Yes\n",
            "No   661  146\n",
            "Yes   22   76\n",
            "F1 Score:  0.475\n"
          ]
        }
      ]
    },
    {
      "cell_type": "markdown",
      "source": [
        "INFORME DE PRESICION\n",
        "\n"
      ],
      "metadata": {
        "id": "mnoXEmElQHR7"
      }
    },
    {
      "cell_type": "code",
      "source": [
        "from sklearn.metrics import classification_report\n",
        "\n",
        "report = classification_report(y_test, y_pred, labels = [0,1])\n",
        "print(report)"
      ],
      "metadata": {
        "colab": {
          "base_uri": "https://localhost:8080/"
        },
        "id": "9xKrxKkbQJBU",
        "outputId": "de0ace5b-df7c-4392-8a96-cd4ec867d387"
      },
      "execution_count": null,
      "outputs": [
        {
          "output_type": "stream",
          "name": "stdout",
          "text": [
            "              precision    recall  f1-score   support\n",
            "\n",
            "           0       0.97      0.82      0.89       807\n",
            "           1       0.34      0.78      0.47        98\n",
            "\n",
            "    accuracy                           0.81       905\n",
            "   macro avg       0.66      0.80      0.68       905\n",
            "weighted avg       0.90      0.81      0.84       905\n",
            "\n"
          ]
        }
      ]
    },
    {
      "cell_type": "markdown",
      "source": [
        "\n",
        "##Modificar los pesos\n",
        "##función compute_class_weight del módulo sklearn.utils.class_weight\n",
        "\n",
        "**class_weight = class_weight.compute_class_weight('balanced',\n",
        "                                                 classes=np.unique(y_train),\n",
        "                                                 y=y_train)**\n",
        "\n",
        "El método compute_class_weight toma tres argumentos:\n",
        "\n",
        "*'balanced':* indica que se deben calcular los pesos de clase de manera\n",
        "equilibrada, teniendo en cuenta el desequilibrio en el conjunto de datos.\n",
        "\n",
        "\n",
        "\n",
        "*\"classes\":* especifica las clases únicas presentes en el conjunto de entrenamiento.\n",
        "\n",
        "*\"y\":* es el arreglo de etiquetas de clase correspondientes al conjunto de entrenamiento.\n",
        "\n",
        "El resultado de compute_class_weight es un arreglo de pesos por clase, donde cada peso se asigna a la clase correspondiente en el mismo orden en que se especificaron las clases únicas.\n",
        "\n",
        "**weights_dict = {i:w for i,w in enumerate(class_weight)}\n",
        "print(\"Pesos por clase: \\n\", weights_dict)**\n",
        "\n",
        "Luego, creamos un diccionario weights_dict donde asignamos cada clase a su respectivo peso utilizando un bucle enumerate.\n",
        "\n",
        "Finalmente, imprimimos los pesos por clase utilizando print(\"Pesos por clase: \\n\", weights_dict).\n",
        "\n",
        "Estos pesos por clase se pueden utilizar en el entrenamiento del modelo para dar más importancia a las clases minoritarias y contrarrestar el desequilibrio de clases.\n",
        "\n",
        "#reducir la tasa de aprendizaje\n",
        "\n",
        "Reducir la tasa de aprendizaje a 0.0005. COMO METODOLOGIA PARA MEJORAR LA SENSIBILIDAD Y PRECISION\n",
        "optimizer = keras.optimizers.Adam(learning_rate=0.0005)\"\n"
      ],
      "metadata": {
        "id": "Jg2BHdEiUPEb"
      }
    }
  ]
}