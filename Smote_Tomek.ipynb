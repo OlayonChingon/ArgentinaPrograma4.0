{
  "nbformat": 4,
  "nbformat_minor": 0,
  "metadata": {
    "colab": {
      "provenance": [],
      "include_colab_link": true
    },
    "kernelspec": {
      "name": "python3",
      "display_name": "Python 3"
    },
    "language_info": {
      "name": "python"
    }
  },
  "cells": [
    {
      "cell_type": "markdown",
      "metadata": {
        "id": "view-in-github",
        "colab_type": "text"
      },
      "source": [
        "<a href=\"https://colab.research.google.com/github/OlayonChingon/ArgentinaPrograma4.0/blob/main/Smote_Tomek.ipynb\" target=\"_parent\"><img src=\"https://colab.research.google.com/assets/colab-badge.svg\" alt=\"Open In Colab\"/></a>"
      ]
    },
    {
      "cell_type": "code",
      "source": [
        "import pandas as pd\n",
        "import numpy as np\n",
        "import tensorflow as tf\n",
        "from sklearn.model_selection import train_test_split\n",
        "from sklearn.preprocessing import StandardScaler, LabelEncoder\n",
        "from sklearn.metrics import confusion_matrix\n",
        "import seaborn as sns\n",
        "import matplotlib.pyplot as plt\n",
        "from tensorflow import keras\n",
        "from keras.layers import Dense\n",
        "from keras.models import Sequential\n",
        "\n",
        "# Cargar el dataset\n",
        "url = '/content/bank.csv'\n",
        "data = pd.read_csv(url, sep=';')\n",
        "\n",
        "\n",
        "# Procesar los datos\n",
        "label_encoder = LabelEncoder()\n",
        "categorical_cols = ['job', 'marital', 'education', 'default', 'housing', 'loan', 'contact', 'month', 'poutcome']\n",
        "for col in categorical_cols:\n",
        "    data[col] = label_encoder.fit_transform(data[col])\n",
        "\n",
        "# Transformar etiquetas a numéricas\n",
        "data['y'] = label_encoder.fit_transform(data['y'])\n",
        "\n",
        "# Dividir en características y etiquetas\n",
        "X = data.drop('y', axis=1)\n",
        "y = data['y']\n",
        "\n",
        "# Dividir en conjuntos de entrenamiento y prueba\n",
        "X_train, X_test, y_train, y_test = train_test_split(X, y, test_size=0.2, random_state=42)\n",
        "\n",
        "# Escalar las características\n",
        "scaler = StandardScaler()\n",
        "X_train = scaler.fit_transform(X_train)\n",
        "X_test = scaler.transform(X_test)\n",
        "\n",
        "# Crear el modelo de red neuronal\n",
        "model = Sequential()\n",
        "model.add(Dense(units=128, activation='relu', input_dim=X_train.shape[1]))\n",
        "model.add(Dense(units=64, activation='relu'))\n",
        "model.add(Dense(units=1, activation='sigmoid'))\n",
        "\n",
        "# Compilar el modelo\n",
        "model.compile(loss='binary_crossentropy', optimizer='adam')\n",
        "\n",
        "# Entrenar el modelo\n",
        "model.fit(X_train, y_train, epochs=10, batch_size=32, verbose=1)\n",
        "\n",
        "\n",
        "\n",
        "\n",
        "\n",
        "\n",
        "\n",
        "# Realizar predicciones en el conjunto de prueba\n",
        "y_probs = model.predict(X_test)\n",
        "y_pred = np.round(y_probs)\n",
        "\n",
        "\n",
        "# Calcular la matriz de confusión\n",
        "conf_matrix = confusion_matrix(y_test, y_pred)\n",
        "\n",
        "# Nombres de clases\n",
        "class_names = ['No', 'Yes']\n",
        "\n",
        "# Estilizar la matriz de confusión con pandas\n",
        "conf_df = pd.DataFrame(conf_matrix, index=class_names, columns=class_names)\n",
        "\n",
        "# Mostrar la matriz de confusión estilizada\n",
        "print(\"\\nMatriz de Confusión:\")\n",
        "print(conf_df)\n",
        "\n",
        "\n",
        "# Crear un gráfico de barras para mostrar la cantidad de registros por clase\n",
        "plt.figure(figsize=(8, 6))\n",
        "sns.countplot(x=y, palette=\"Set2\")\n",
        "plt.xlabel('Clase')\n",
        "plt.ylabel('Cantidad de Registros')\n",
        "plt.title('Cantidad de Registros por Clase')\n",
        "plt.xticks([0, 1], ['No', 'Yes'])  # Etiquetas personalizadas para las clases\n",
        "plt.show()\n"
      ],
      "metadata": {
        "colab": {
          "base_uri": "https://localhost:8080/",
          "height": 1000
        },
        "id": "8qAAQU0R1C-1",
        "outputId": "68e64eaf-21c6-4dc3-f099-466799f3596b"
      },
      "execution_count": null,
      "outputs": [
        {
          "output_type": "stream",
          "name": "stdout",
          "text": [
            "Epoch 1/10\n",
            "113/113 [==============================] - 2s 3ms/step - loss: 0.3461\n",
            "Epoch 2/10\n",
            "113/113 [==============================] - 0s 2ms/step - loss: 0.2603\n",
            "Epoch 3/10\n",
            "113/113 [==============================] - 0s 2ms/step - loss: 0.2474\n",
            "Epoch 4/10\n",
            "113/113 [==============================] - 0s 3ms/step - loss: 0.2399\n",
            "Epoch 5/10\n",
            "113/113 [==============================] - 0s 3ms/step - loss: 0.2352\n",
            "Epoch 6/10\n",
            "113/113 [==============================] - 0s 4ms/step - loss: 0.2287\n",
            "Epoch 7/10\n",
            "113/113 [==============================] - 0s 4ms/step - loss: 0.2231\n",
            "Epoch 8/10\n",
            "113/113 [==============================] - 0s 2ms/step - loss: 0.2180\n",
            "Epoch 9/10\n",
            "113/113 [==============================] - 0s 3ms/step - loss: 0.2137\n",
            "Epoch 10/10\n",
            "113/113 [==============================] - 0s 1ms/step - loss: 0.2080\n",
            "29/29 [==============================] - 0s 878us/step\n",
            "\n",
            "Matriz de Confusión:\n",
            "      No  Yes\n",
            "No   770   37\n",
            "Yes   69   29\n"
          ]
        },
        {
          "output_type": "display_data",
          "data": {
            "text/plain": [
              "<Figure size 800x600 with 1 Axes>"
            ],
            "image/png": "[encoded data removed]"
          },
          "metadata": {}
        }
      ]
    },
    {
      "cell_type": "code",
      "source": [
        "\n",
        "TN = conf_matrix[0, 0]\n",
        "FP = conf_matrix[0, 1]\n",
        "FN = conf_matrix[1, 0]\n",
        "TP = conf_matrix[1, 1]\n",
        "\n",
        "precision = TP / (TP + FP)\n",
        "sensitivity = TP / (TP + FN)\n",
        "\n",
        "f1 = 2 * (precision * sensitivity) / (precision + sensitivity)\n",
        "\n",
        "print(\"F1-score:\", f1)"
      ],
      "metadata": {
        "colab": {
          "base_uri": "https://localhost:8080/"
        },
        "id": "xe0MBMwhLd-D",
        "outputId": "d027e9a4-b607-4216-9339-f9f931f0bde6"
      },
      "execution_count": null,
      "outputs": [
        {
          "output_type": "stream",
          "name": "stdout",
          "text": [
            "F1-score: 0.3536585365853658\n"
          ]
        }
      ]
    },
    {
      "cell_type": "code",
      "source": [
        "import pandas as pd\n",
        "import numpy as np\n",
        "import tensorflow as tf\n",
        "from sklearn.model_selection import train_test_split\n",
        "from sklearn.preprocessing import StandardScaler, LabelEncoder\n",
        "from sklearn.metrics import confusion_matrix\n",
        "import seaborn as sns\n",
        "import matplotlib.pyplot as plt\n",
        "from tensorflow import keras\n",
        "from keras.layers import Dense\n",
        "from keras.models import Sequential\n",
        "from imblearn.combine import SMOTETomek  # Importar SMOTETomek\n",
        "\n",
        "# Cargar el dataset\n",
        "url = '/content/bank.csv'\n",
        "data = pd.read_csv(url, sep=';')\n",
        "\n",
        "# Procesar los datos\n",
        "label_encoder = LabelEncoder()\n",
        "categorical_cols = ['job', 'marital', 'education', 'default', 'housing', 'loan', 'contact', 'month', 'poutcome']\n",
        "for col in categorical_cols:\n",
        "    data[col] = label_encoder.fit_transform(data[col])\n",
        "\n",
        "# Transformar etiquetas a numéricas\n",
        "data['y'] = label_encoder.fit_transform(data['y'])\n",
        "\n",
        "# Dividir en características y etiquetas\n",
        "X = data.drop('y', axis=1)\n",
        "y = data['y']\n",
        "\n",
        "# Crear instancia de SMOTETomek\n",
        "smote_tomek = SMOTETomek(random_state=42)\n",
        "\n",
        "# Aplicar SMOTE-TOMEK al conjunto de datos\n",
        "X_resampled, y_resampled = smote_tomek.fit_resample(X, y)\n",
        "\n",
        "# Dividir en conjuntos de entrenamiento y prueba\n",
        "X_train, X_test, y_train, y_test = train_test_split(X_resampled, y_resampled, test_size=0.2, random_state=42)\n",
        "\n",
        "# Escalar las características\n",
        "scaler = StandardScaler()\n",
        "X_train = scaler.fit_transform(X_train)\n",
        "X_test = scaler.transform(X_test)\n",
        "\n",
        "# Crear el modelo de red neuronal\n",
        "model = Sequential()\n",
        "model.add(Dense(units=128, activation='relu', input_dim=X_train.shape[1]))\n",
        "model.add(Dense(units=64, activation='relu'))\n",
        "model.add(Dense(units=1, activation='sigmoid'))\n",
        "\n",
        "# Compilar el modelo\n",
        "model.compile(loss='binary_crossentropy', optimizer='adam')\n",
        "\n",
        "# Entrenar el modelo\n",
        "model.fit(X_train, y_train, epochs=10, batch_size=32, verbose=1)\n",
        "\n",
        "# Realizar predicciones en el conjunto de prueba\n",
        "y_probs = model.predict(X_test)\n",
        "y_pred = np.round(y_probs)\n",
        "\n",
        "# Calcular la matriz de confusión\n",
        "conf_matrix = confusion_matrix(y_test, y_pred)\n",
        "\n",
        "# Nombres de clases\n",
        "class_names = ['No', 'Yes']\n",
        "\n",
        "# Estilizar la matriz de confusión con pandas\n",
        "conf_df = pd.DataFrame(conf_matrix, index=class_names, columns=class_names)\n",
        "\n",
        "# Mostrar la matriz de confusión estilizada\n",
        "print(\"\\nMatriz de Confusión:\")\n",
        "print(conf_df)\n",
        "\n",
        "# Crear un gráfico de barras para mostrar la cantidad de registros por clase\n",
        "plt.figure(figsize=(8, 6))\n",
        "sns.countplot(x=y_resampled, palette=\"Set2\")\n",
        "plt.xlabel('Clase')\n",
        "plt.ylabel('Cantidad de Registros')\n",
        "plt.title('Cantidad de Registros por Clase')\n",
        "plt.xticks([0, 1], ['No', 'Yes'])  # Etiquetas personalizadas para las clases\n",
        "plt.show()\n"
      ],
      "metadata": {
        "colab": {
          "base_uri": "https://localhost:8080/",
          "height": 1000
        },
        "id": "485PzzdJTOoD",
        "outputId": "36ae1601-b03a-44e5-f1b9-7ec227b4339b"
      },
      "execution_count": null,
      "outputs": [
        {
          "output_type": "stream",
          "name": "stdout",
          "text": [
            "Epoch 1/10\n",
            "193/193 [==============================] - 1s 1ms/step - loss: 0.3889\n",
            "Epoch 2/10\n",
            "193/193 [==============================] - 0s 1ms/step - loss: 0.3122\n",
            "Epoch 3/10\n",
            "193/193 [==============================] - 0s 1ms/step - loss: 0.2947\n",
            "Epoch 4/10\n",
            "193/193 [==============================] - 0s 1ms/step - loss: 0.2784\n",
            "Epoch 5/10\n",
            "193/193 [==============================] - 0s 1ms/step - loss: 0.2701\n",
            "Epoch 6/10\n",
            "193/193 [==============================] - 0s 1ms/step - loss: 0.2591\n",
            "Epoch 7/10\n",
            "193/193 [==============================] - 0s 1ms/step - loss: 0.2490\n",
            "Epoch 8/10\n",
            "193/193 [==============================] - 0s 1ms/step - loss: 0.2396\n",
            "Epoch 9/10\n",
            "193/193 [==============================] - 0s 1ms/step - loss: 0.2337\n",
            "Epoch 10/10\n",
            "193/193 [==============================] - 0s 2ms/step - loss: 0.2236\n",
            "49/49 [==============================] - 0s 1ms/step\n",
            "\n",
            "Matriz de Confusión:\n",
            "      No  Yes\n",
            "No   660  102\n",
            "Yes   77  703\n"
          ]
        },
        {
          "output_type": "display_data",
          "data": {
            "text/plain": [
              "<Figure size 800x600 with 1 Axes>"
            ],
            "image/png": "[encoded data removed]"
          },
          "metadata": {}
        }
      ]
    },
    {
      "cell_type": "code",
      "source": [
        "TN = conf_matrix[0, 0]\n",
        "FP = conf_matrix[0, 1]\n",
        "FN = conf_matrix[1, 0]\n",
        "TP = conf_matrix[1, 1]\n",
        "\n",
        "precision = TP / (TP + FP)\n",
        "sensitivity = TP / (TP + FN)\n",
        "\n",
        "f1 = 2 * (precision * sensitivity) / (precision + sensitivity)\n",
        "\n",
        "print(\"F1-score:\", f1)"
      ],
      "metadata": {
        "colab": {
          "base_uri": "https://localhost:8080/"
        },
        "id": "tSy_Yi4sTRvO",
        "outputId": "2cc7fb5a-f623-44e5-953a-ed9945657893"
      },
      "execution_count": null,
      "outputs": [
        {
          "output_type": "stream",
          "name": "stdout",
          "text": [
            "F1-score: 0.8870662460567823\n"
          ]
        }
      ]
    }
  ]
}